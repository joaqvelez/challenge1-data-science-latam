{
  "cells": [
    {
      "cell_type": "markdown",
      "metadata": {
        "id": "RhEdWd9YUR6H"
      },
      "source": [
        "### Importación de datos\n",
        "\n"
      ]
    },
    {
      "cell_type": "code",
      "execution_count": 1,
      "metadata": {
        "colab": {
          "base_uri": "https://localhost:8080/",
          "height": 206
        },
        "id": "T3EvaeQ_INIL",
        "outputId": "e9c5efe1-82a3-43ab-e8d7-6d01e4fa3514"
      },
      "outputs": [
        {
          "data": {
            "text/html": [
              "<div>\n",
              "<style scoped>\n",
              "    .dataframe tbody tr th:only-of-type {\n",
              "        vertical-align: middle;\n",
              "    }\n",
              "\n",
              "    .dataframe tbody tr th {\n",
              "        vertical-align: top;\n",
              "    }\n",
              "\n",
              "    .dataframe thead th {\n",
              "        text-align: right;\n",
              "    }\n",
              "</style>\n",
              "<table border=\"1\" class=\"dataframe\">\n",
              "  <thead>\n",
              "    <tr style=\"text-align: right;\">\n",
              "      <th></th>\n",
              "      <th>Producto</th>\n",
              "      <th>Categoría del Producto</th>\n",
              "      <th>Precio</th>\n",
              "      <th>Costo de envío</th>\n",
              "      <th>Fecha de Compra</th>\n",
              "      <th>Vendedor</th>\n",
              "      <th>Lugar de Compra</th>\n",
              "      <th>Calificación</th>\n",
              "      <th>Método de pago</th>\n",
              "      <th>Cantidad de cuotas</th>\n",
              "      <th>lat</th>\n",
              "      <th>lon</th>\n",
              "    </tr>\n",
              "  </thead>\n",
              "  <tbody>\n",
              "    <tr>\n",
              "      <th>0</th>\n",
              "      <td>Asistente virtual</td>\n",
              "      <td>Electrónicos</td>\n",
              "      <td>164300.0</td>\n",
              "      <td>6900.0</td>\n",
              "      <td>16/01/2021</td>\n",
              "      <td>Pedro Gomez</td>\n",
              "      <td>Bogotá</td>\n",
              "      <td>4</td>\n",
              "      <td>Tarjeta de crédito</td>\n",
              "      <td>8</td>\n",
              "      <td>4.60971</td>\n",
              "      <td>-74.08175</td>\n",
              "    </tr>\n",
              "    <tr>\n",
              "      <th>1</th>\n",
              "      <td>Mesa de comedor</td>\n",
              "      <td>Muebles</td>\n",
              "      <td>192300.0</td>\n",
              "      <td>8400.0</td>\n",
              "      <td>18/05/2022</td>\n",
              "      <td>Beatriz Morales</td>\n",
              "      <td>Medellín</td>\n",
              "      <td>1</td>\n",
              "      <td>Tarjeta de crédito</td>\n",
              "      <td>4</td>\n",
              "      <td>6.25184</td>\n",
              "      <td>-75.56359</td>\n",
              "    </tr>\n",
              "    <tr>\n",
              "      <th>2</th>\n",
              "      <td>Juego de mesa</td>\n",
              "      <td>Juguetes</td>\n",
              "      <td>209600.0</td>\n",
              "      <td>15900.0</td>\n",
              "      <td>15/03/2021</td>\n",
              "      <td>Juan Fernandez</td>\n",
              "      <td>Cartagena</td>\n",
              "      <td>1</td>\n",
              "      <td>Tarjeta de crédito</td>\n",
              "      <td>1</td>\n",
              "      <td>10.39972</td>\n",
              "      <td>-75.51444</td>\n",
              "    </tr>\n",
              "    <tr>\n",
              "      <th>3</th>\n",
              "      <td>Microondas</td>\n",
              "      <td>Electrodomésticos</td>\n",
              "      <td>757500.0</td>\n",
              "      <td>41000.0</td>\n",
              "      <td>03/05/2022</td>\n",
              "      <td>Juan Fernandez</td>\n",
              "      <td>Cali</td>\n",
              "      <td>4</td>\n",
              "      <td>Nequi</td>\n",
              "      <td>1</td>\n",
              "      <td>3.43722</td>\n",
              "      <td>-76.52250</td>\n",
              "    </tr>\n",
              "    <tr>\n",
              "      <th>4</th>\n",
              "      <td>Silla de oficina</td>\n",
              "      <td>Muebles</td>\n",
              "      <td>335200.0</td>\n",
              "      <td>20200.0</td>\n",
              "      <td>07/11/2020</td>\n",
              "      <td>Maria Alfonso</td>\n",
              "      <td>Medellín</td>\n",
              "      <td>5</td>\n",
              "      <td>Nequi</td>\n",
              "      <td>1</td>\n",
              "      <td>6.25184</td>\n",
              "      <td>-75.56359</td>\n",
              "    </tr>\n",
              "  </tbody>\n",
              "</table>\n",
              "</div>"
            ],
            "text/plain": [
              "            Producto Categoría del Producto    Precio  Costo de envío  \\\n",
              "0  Asistente virtual           Electrónicos  164300.0          6900.0   \n",
              "1    Mesa de comedor                Muebles  192300.0          8400.0   \n",
              "2      Juego de mesa               Juguetes  209600.0         15900.0   \n",
              "3         Microondas      Electrodomésticos  757500.0         41000.0   \n",
              "4   Silla de oficina                Muebles  335200.0         20200.0   \n",
              "\n",
              "  Fecha de Compra         Vendedor Lugar de Compra  Calificación  \\\n",
              "0      16/01/2021      Pedro Gomez          Bogotá             4   \n",
              "1      18/05/2022  Beatriz Morales        Medellín             1   \n",
              "2      15/03/2021   Juan Fernandez       Cartagena             1   \n",
              "3      03/05/2022   Juan Fernandez            Cali             4   \n",
              "4      07/11/2020    Maria Alfonso        Medellín             5   \n",
              "\n",
              "       Método de pago  Cantidad de cuotas       lat       lon  \n",
              "0  Tarjeta de crédito                   8   4.60971 -74.08175  \n",
              "1  Tarjeta de crédito                   4   6.25184 -75.56359  \n",
              "2  Tarjeta de crédito                   1  10.39972 -75.51444  \n",
              "3               Nequi                   1   3.43722 -76.52250  \n",
              "4               Nequi                   1   6.25184 -75.56359  "
            ]
          },
          "execution_count": 1,
          "metadata": {},
          "output_type": "execute_result"
        }
      ],
      "source": [
        "import pandas as pd\n",
        "\n",
        "url = \"https://raw.githubusercontent.com/alura-es-cursos/challenge1-data-science-latam/refs/heads/main/base-de-datos-challenge1-latam/tienda_1%20.csv\"\n",
        "url2 = \"https://raw.githubusercontent.com/alura-es-cursos/challenge1-data-science-latam/refs/heads/main/base-de-datos-challenge1-latam/tienda_2.csv\"\n",
        "url3 = \"https://raw.githubusercontent.com/alura-es-cursos/challenge1-data-science-latam/refs/heads/main/base-de-datos-challenge1-latam/tienda_3.csv\"\n",
        "url4 = \"https://raw.githubusercontent.com/alura-es-cursos/challenge1-data-science-latam/refs/heads/main/base-de-datos-challenge1-latam/tienda_4.csv\"\n",
        "\n",
        "tienda = pd.read_csv(url)\n",
        "tienda2 = pd.read_csv(url2)\n",
        "tienda3 = pd.read_csv(url3)\n",
        "tienda4 = pd.read_csv(url4)\n",
        "\n",
        "tienda.head()"
      ]
    },
    {
      "cell_type": "markdown",
      "metadata": {
        "id": "X62IW3KFUIYm"
      },
      "source": [
        "#1. Análisis de facturación\n",
        "\n"
      ]
    },
    {
      "cell_type": "code",
      "execution_count": 14,
      "metadata": {
        "id": "xykobSftV64I"
      },
      "outputs": [
        {
          "name": "stdout",
          "output_type": "stream",
          "text": [
            "{'Tienda': 'Tienda 1', 'Facturación Total': 1150880400.0, 'Número de Ventas': 2359, 'Venta Promedio': 487867.9101314116}\n",
            "{'Tienda': 'Tienda 2', 'Facturación Total': 1116343500.0, 'Número de Ventas': 2359, 'Venta Promedio': 473227.42687579483}\n",
            "{'Tienda': 'Tienda 3', 'Facturación Total': 1098019600.0, 'Número de Ventas': 2359, 'Venta Promedio': 465459.7710894447}\n",
            "{'Tienda': 'Tienda 4', 'Facturación Total': 1038375700.0, 'Número de Ventas': 2358, 'Venta Promedio': 440362.89228159457}\n"
          ]
        }
      ],
      "source": [
        "def calcular_facturacion_tienda(df, nombre_tienda):\n",
        "    \"\"\"Calcula la facturación total de una tienda\"\"\"\n",
        "    facturacion_total = df['Precio'].sum()\n",
        "    resultado = {\n",
        "        'Tienda': nombre_tienda,\n",
        "        'Facturación Total': facturacion_total,\n",
        "        'Número de Ventas': len(df),\n",
        "        'Venta Promedio': facturacion_total / len(df)\n",
        "    }\n",
        "    return print(resultado)\n",
        "\n",
        "# Calcular facturación para cada tienda\n",
        "facturacion_tienda1 = calcular_facturacion_tienda(tienda, 'Tienda 1')\n",
        "facturacion_tienda2 = calcular_facturacion_tienda(tienda2, 'Tienda 2')\n",
        "facturacion_tienda3 = calcular_facturacion_tienda(tienda3, 'Tienda 3')\n",
        "facturacion_tienda4 = calcular_facturacion_tienda(tienda4, 'Tienda 4')"
      ]
    },
    {
      "cell_type": "markdown",
      "metadata": {
        "id": "2V_vcAPzWZmR"
      },
      "source": [
        "# 2. Ventas por categoría"
      ]
    },
    {
      "cell_type": "code",
      "execution_count": 15,
      "metadata": {
        "id": "A34YupIuYhfF"
      },
      "outputs": [
        {
          "name": "stdout",
          "output_type": "stream",
          "text": [
            "\n",
            "Categorías más populares - Tienda 1:\n",
            "                         Ingresos Totales  Cantidad Vendida  Precio Promedio\n",
            "Categoría del Producto                                                      \n",
            "Electrónicos                  429493500.0               448        958690.85\n",
            "Electrodomésticos             363685200.0               312       1165657.69\n",
            "Muebles                       187633700.0               465        403513.33\n",
            "Instrumentos musicales         91299000.0               182        501642.86\n",
            "Deportes y diversión           39290000.0               284        138345.07\n",
            "Juguetes                       17995700.0               324         55542.28\n",
            "Artículos para el hogar        12698400.0               171         74259.65\n",
            "Libros                          8784900.0               173         50779.77\n",
            "\n",
            "Categorías más populares - Tienda 2:\n",
            "                         Ingresos Totales  Cantidad Vendida  Precio Promedio\n",
            "Categoría del Producto                                                      \n",
            "Electrónicos                  410831100.0               422        973533.41\n",
            "Electrodomésticos             348567800.0               305       1142845.25\n",
            "Muebles                       176426300.0               442        399154.52\n",
            "Instrumentos musicales        104990300.0               224        468706.70\n",
            "Deportes y diversión           34744500.0               275        126343.64\n",
            "Juguetes                       15945400.0               313         50943.77\n",
            "Artículos para el hogar        14746900.0               181         81474.59\n",
            "Libros                         10091200.0               197         51224.37\n",
            "\n",
            "Categorías más populares - Tienda 3:\n",
            "                         Ingresos Totales  Cantidad Vendida  Precio Promedio\n",
            "Categoría del Producto                                                      \n",
            "Electrónicos                  410775800.0               451        910811.09\n",
            "Electrodomésticos             329237900.0               278       1184308.99\n",
            "Muebles                       201072100.0               499        402950.10\n",
            "Instrumentos musicales         77380900.0               177        437180.23\n",
            "Deportes y diversión           35593100.0               277        128494.95\n",
            "Juguetes                       19401100.0               315         61590.79\n",
            "Artículos para el hogar        15060000.0               177         85084.75\n",
            "Libros                          9498700.0               185         51344.32\n",
            "\n",
            "Categorías más populares - Tienda 4:\n",
            "                         Ingresos Totales  Cantidad Vendida  Precio Promedio\n",
            "Categoría del Producto                                                      \n",
            "Electrónicos                  409476100.0               451        907929.27\n",
            "Electrodomésticos             283260200.0               254       1115197.64\n",
            "Muebles                       192528900.0               480        401101.88\n",
            "Instrumentos musicales         75102400.0               170        441778.82\n",
            "Deportes y diversión           33350100.0               277        120397.47\n",
            "Juguetes                       20262200.0               338         59947.34\n",
            "Artículos para el hogar        15074500.0               201         74997.51\n",
            "Libros                          9321300.0               187         49846.52\n"
          ]
        }
      ],
      "source": [
        "def analizar_categorias_tienda(df, nombre_tienda):\n",
        "    \"\"\"Analiza las categorías más vendidas por tienda\"\"\"\n",
        "    categorias = df.groupby('Categoría del Producto').agg({\n",
        "        'Precio': ['sum', 'count', 'mean']\n",
        "    }).round(2)\n",
        "    \n",
        "    categorias.columns = ['Ingresos Totales', 'Cantidad Vendida', 'Precio Promedio']\n",
        "    categorias = categorias.sort_values('Ingresos Totales', ascending=False)\n",
        "    \n",
        "    print(f\"\\nCategorías más populares - {nombre_tienda}:\")\n",
        "    print(categorias)\n",
        "    \n",
        "    return categorias\n",
        "\n",
        "# Analizar cada tienda\n",
        "cat_tienda1 = analizar_categorias_tienda(tienda, 'Tienda 1')\n",
        "cat_tienda2 = analizar_categorias_tienda(tienda2, 'Tienda 2')\n",
        "cat_tienda3 = analizar_categorias_tienda(tienda3, 'Tienda 3')\n",
        "cat_tienda4 = analizar_categorias_tienda(tienda4, 'Tienda 4')"
      ]
    },
    {
      "cell_type": "markdown",
      "metadata": {
        "id": "Rq6tU_xSY3jk"
      },
      "source": [
        "# 3. Calificación promedio de la tienda\n"
      ]
    },
    {
      "cell_type": "code",
      "execution_count": 16,
      "metadata": {
        "id": "bh3jjjJwY5MU"
      },
      "outputs": [
        {
          "name": "stdout",
          "output_type": "stream",
          "text": [
            "{'Tienda': 'Tienda 1', 'Calificación Promedio': 3.98, 'Total Evaluaciones': 2359, 'Distribución': {1: 319, 2: 86, 3: 218, 4: 444, 5: 1292}}\n",
            "{'Tienda': 'Tienda 2', 'Calificación Promedio': 4.04, 'Total Evaluaciones': 2359, 'Distribución': {1: 273, 2: 93, 3: 209, 4: 482, 5: 1302}}\n",
            "{'Tienda': 'Tienda 3', 'Calificación Promedio': 4.05, 'Total Evaluaciones': 2359, 'Distribución': {1: 297, 2: 79, 3: 193, 4: 434, 5: 1356}}\n",
            "{'Tienda': 'Tienda 4', 'Calificación Promedio': 4.0, 'Total Evaluaciones': 2358, 'Distribución': {1: 310, 2: 85, 3: 210, 4: 453, 5: 1300}}\n"
          ]
        }
      ],
      "source": [
        "def calcular_calificacion_promedio(df, nombre_tienda):\n",
        "    \"\"\"Calcula la calificación promedio de una tienda\"\"\"\n",
        "    calificacion_promedio = df['Calificación'].mean()\n",
        "    distribucion_calificaciones = df['Calificación'].value_counts().sort_index()\n",
        "    \n",
        "    resultado = {\n",
        "        'Tienda': nombre_tienda,\n",
        "        'Calificación Promedio': round(calificacion_promedio, 2),\n",
        "        'Total Evaluaciones': len(df),\n",
        "        'Distribución': distribucion_calificaciones.to_dict()\n",
        "    }\n",
        "\n",
        "    return print(resultado)\n",
        "\n",
        "# Calcular calificaciones\n",
        "cal_tienda1 = calcular_calificacion_promedio(tienda, 'Tienda 1')\n",
        "cal_tienda2 = calcular_calificacion_promedio(tienda2, 'Tienda 2')\n",
        "cal_tienda3 = calcular_calificacion_promedio(tienda3, 'Tienda 3')\n",
        "cal_tienda4 = calcular_calificacion_promedio(tienda4, 'Tienda 4')"
      ]
    },
    {
      "cell_type": "markdown",
      "metadata": {
        "id": "DmNp1KPBZCm-"
      },
      "source": [
        "# 4. Productos más y menos vendidos"
      ]
    },
    {
      "cell_type": "code",
      "execution_count": 18,
      "metadata": {
        "id": "qoyjqijQZHfF"
      },
      "outputs": [
        {
          "name": "stdout",
          "output_type": "stream",
          "text": [
            "\n",
            "Tienda 1:\n",
            "TOP 5 Productos MÁS vendidos:\n",
            "                         Ingresos Totales  Cantidad Vendida  Precio Promedio\n",
            "Producto                                                                    \n",
            "TV LED UHD 4K                 142150200.0                60       2369170.00\n",
            "Microondas                     34761500.0                60        579358.33\n",
            "Armario                        29462300.0                60        491038.33\n",
            "Secadora de ropa               59062400.0                58       1018317.24\n",
            "Bloques de construcción         1865700.0                56         33316.07\n",
            "\n",
            "TOP 5 Productos MENOS vendidos:\n",
            "                           Ingresos Totales  Cantidad Vendida  Precio Promedio\n",
            "Producto                                                                      \n",
            "Mochila                           3867200.0                39         99158.97\n",
            "Pandereta                         2238900.0                36         62191.67\n",
            "Olla de presión                   2629300.0                35         75122.86\n",
            "Auriculares con micrófono         4730800.0                33        143357.58\n",
            "Celular ABXY                     32651000.0                33        989424.24\n",
            "\n",
            "Tienda 2:\n",
            "TOP 5 Productos MÁS vendidos:\n",
            "                           Ingresos Totales  Cantidad Vendida  Precio Promedio\n",
            "Producto                                                                      \n",
            "Iniciando en programación         3127800.0                65         48120.00\n",
            "Microondas                       36192000.0                62        583741.94\n",
            "Batería                          46175300.0                61        756972.13\n",
            "Pandereta                         3725100.0                58         64225.86\n",
            "Guitarra acústica                18648400.0                58        321524.14\n",
            "\n",
            "TOP 5 Productos MENOS vendidos:\n",
            "                 Ingresos Totales  Cantidad Vendida  Precio Promedio\n",
            "Producto                                                            \n",
            "Auriculares             3569600.0                37         96475.68\n",
            "Sillón                  8413500.0                35        240385.71\n",
            "Impresora              10385300.0                34        305450.00\n",
            "Mesa de comedor         8637500.0                34        254044.12\n",
            "Juego de mesa           5811900.0                32        181621.88\n",
            "\n",
            "Tienda 3:\n",
            "TOP 5 Productos MÁS vendidos:\n",
            "                 Ingresos Totales  Cantidad Vendida  Precio Promedio\n",
            "Producto                                                            \n",
            "Kit de bancas          16699800.0                57        292978.95\n",
            "Cama king              38834700.0                56        693476.79\n",
            "Mesa de comedor        14326100.0                56        255823.21\n",
            "Mesa de noche          15365500.0                55        279372.73\n",
            "Set de ollas            8696500.0                55        158118.18\n",
            "\n",
            "TOP 5 Productos MENOS vendidos:\n",
            "                         Ingresos Totales  Cantidad Vendida  Precio Promedio\n",
            "Producto                                                                    \n",
            "Vaso térmico                    1725600.0                38         45410.53\n",
            "Mochila                         3547000.0                36         98527.78\n",
            "Microondas                     19153600.0                36        532044.44\n",
            "Set de vasos                    1210700.0                36         33630.56\n",
            "Bloques de construcción         1237200.0                35         35348.57\n",
            "\n",
            "Tienda 4:\n",
            "TOP 5 Productos MÁS vendidos:\n",
            "                         Ingresos Totales  Cantidad Vendida  Precio Promedio\n",
            "Producto                                                                    \n",
            "Cama box                       32946300.0                62        531391.94\n",
            "Cubertería                      2649300.0                59         44903.39\n",
            "Dashboards con Power BI         1990600.0                56         35546.43\n",
            "Cama king                      37555400.0                56        670632.14\n",
            "Mesa de comedor                13320600.0                55        242192.73\n",
            "\n",
            "TOP 5 Productos MENOS vendidos:\n",
            "                             Ingresos Totales  Cantidad Vendida  \\\n",
            "Producto                                                          \n",
            "Ciencia de datos con Python         2108800.0                38   \n",
            "Lavadora de ropa                   52463600.0                38   \n",
            "Guitarra acústica                  11257100.0                37   \n",
            "Armario                            16421400.0                34   \n",
            "Guitarra eléctrica                 25823100.0                33   \n",
            "\n",
            "                             Precio Promedio  \n",
            "Producto                                      \n",
            "Ciencia de datos con Python         55494.74  \n",
            "Lavadora de ropa                  1380621.05  \n",
            "Guitarra acústica                  304245.95  \n",
            "Armario                            482982.35  \n",
            "Guitarra eléctrica                 782518.18  \n"
          ]
        }
      ],
      "source": [
        "def analizar_productos_tienda(df, nombre_tienda):\n",
        "    \"\"\"Analiza los productos más y menos vendidos\"\"\"\n",
        "    productos = df.groupby('Producto').agg({\n",
        "        'Precio': ['sum', 'count', 'mean']\n",
        "    }).round(2)\n",
        "    \n",
        "    productos.columns = ['Ingresos Totales', 'Cantidad Vendida', 'Precio Promedio']\n",
        "    productos_ordenados = productos.sort_values('Cantidad Vendida', ascending=False)\n",
        "    \n",
        "    print(f\"\\n{nombre_tienda}:\")\n",
        "    print(\"TOP 5 Productos MÁS vendidos:\")\n",
        "    print(productos_ordenados.head())\n",
        "    \n",
        "    print(f\"\\nTOP 5 Productos MENOS vendidos:\")\n",
        "    print(productos_ordenados.tail())\n",
        "    \n",
        "    return productos_ordenados\n",
        "\n",
        "# Analizar productos por tienda\n",
        "prod_tienda1 = analizar_productos_tienda(tienda, 'Tienda 1')\n",
        "prod_tienda2 = analizar_productos_tienda(tienda2, 'Tienda 2')\n",
        "prod_tienda3 = analizar_productos_tienda(tienda3, 'Tienda 3')\n",
        "prod_tienda4 = analizar_productos_tienda(tienda4, 'Tienda 4')"
      ]
    },
    {
      "cell_type": "markdown",
      "metadata": {
        "id": "Fl0cGi3bZKqU"
      },
      "source": [
        "# 5. Envío promedio por tienda"
      ]
    },
    {
      "cell_type": "code",
      "execution_count": 21,
      "metadata": {
        "id": "S2JeaCykZNy9"
      },
      "outputs": [
        {
          "name": "stdout",
          "output_type": "stream",
          "text": [
            "{'Tienda': 'Tienda 1', 'Costo Promedio Envío': 26018.61, 'Costo Total Envíos': 61377900.0, 'Envíos Realizados': 2359}\n",
            "{'Tienda': 'Tienda 2', 'Costo Promedio Envío': 25216.24, 'Costo Total Envíos': 59485100.0, 'Envíos Realizados': 2359}\n",
            "{'Tienda': 'Tienda 3', 'Costo Promedio Envío': 24805.68, 'Costo Total Envíos': 58516600.0, 'Envíos Realizados': 2359}\n",
            "{'Tienda': 'Tienda 4', 'Costo Promedio Envío': 23459.46, 'Costo Total Envíos': 55317400.0, 'Envíos Realizados': 2358}\n"
          ]
        }
      ],
      "source": [
        "def calcular_costo_envio(df, nombre_tienda):\n",
        "    \"\"\"Calcula el costo promedio de envío\"\"\"\n",
        "    costo_promedio = df['Costo de envío'].mean()\n",
        "    costo_total = df['Costo de envío'].sum()\n",
        "    \n",
        "    resultado = {\n",
        "        'Tienda': nombre_tienda,\n",
        "        'Costo Promedio Envío': round(costo_promedio, 2),\n",
        "        'Costo Total Envíos': round(costo_total, 2),\n",
        "        'Envíos Realizados': len(df)\n",
        "    }\n",
        "\n",
        "    return print(resultado)\n",
        "\n",
        "# Calcular costos de envío\n",
        "envio_tienda1 = calcular_costo_envio(tienda, 'Tienda 1')\n",
        "envio_tienda2 = calcular_costo_envio(tienda2, 'Tienda 2')\n",
        "envio_tienda3 = calcular_costo_envio(tienda3, 'Tienda 3')\n",
        "envio_tienda4 = calcular_costo_envio(tienda4, 'Tienda 4')\n"
      ]
    },
    {
      "cell_type": "code",
      "execution_count": null,
      "metadata": {
        "id": "0tSdCie9ZQlt"
      },
      "outputs": [],
      "source": []
    }
  ],
  "metadata": {
    "colab": {
      "provenance": []
    },
    "kernelspec": {
      "display_name": "Python 3",
      "name": "python3"
    },
    "language_info": {
      "codemirror_mode": {
        "name": "ipython",
        "version": 3
      },
      "file_extension": ".py",
      "mimetype": "text/x-python",
      "name": "python",
      "nbconvert_exporter": "python",
      "pygments_lexer": "ipython3",
      "version": "3.11.4"
    }
  },
  "nbformat": 4,
  "nbformat_minor": 0
}
